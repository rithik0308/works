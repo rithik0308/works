{
 "cells": [
  {
   "cell_type": "code",
   "execution_count": 1,
   "id": "6c490a87-3b44-4b0a-94c7-7998ddb78583",
   "metadata": {},
   "outputs": [],
   "source": [
    "import pandas as od \n",
    "import numpy as np \n",
    "import matplotlib.pyplot as plt"
   ]
  },
  {
   "cell_type": "code",
   "execution_count": 2,
   "id": "68caea7e-85ab-45fc-92c9-412167c50e1c",
   "metadata": {},
   "outputs": [],
   "source": [
    "num_friends = [100,1,2,3,4,5,6,7,8,9,10,11,12,13,14,15,16,17,18,19,20, 49,40,41,25,1,2,3,4,5,6,7,8,9,10,11,12,13,14,15,16,17,18,19,20,1,2,3,4,5,6,7,8,9,10,11,12,13,14,15,16,17,18,19,20,1,2,3,4,5,6,7,8,9,10,11,12,13,14,15,16,17,18,19,20,1,2,3,4,5,6,7,8,9,10,11,12,13,14,15,16,17,18,19,20,1,2,3,4,5,6,7,8,9,10,11,12,13,14,15,16,17,18,19,20,1,2,3,4,5,6,7,8,9,10,11,12,13,14,15,16,17,18,19,20,1,2,3,4,5,6,7,8,9,10,11,12,13,14,15,16,17,18,19,20]\n",
    "\n",
    "# for i in range(1, 101):\n",
    "#     num_friends.append(i)\n",
    "\n",
    "# print(num_friends)"
   ]
  },
  {
   "cell_type": "code",
   "execution_count": 3,
   "id": "c6d1a7f3-2fe0-4087-b308-e5e6aecaaa8b",
   "metadata": {},
   "outputs": [],
   "source": [
    "# shuffled = np.random.permutation(num_friends)"
   ]
  },
  {
   "cell_type": "code",
   "execution_count": 4,
   "id": "9d035e25-0678-4d02-84f1-5fdb561343ae",
   "metadata": {},
   "outputs": [
    {
     "data": {
      "image/png": "[encoded data removed]",
      "text/plain": [
       "<Figure size 640x480 with 1 Axes>"
      ]
     },
     "metadata": {},
     "output_type": "display_data"
    }
   ],
   "source": [
    "\n",
    "from collections import Counter\n",
    "friend_counts = Counter(num_friends)\n",
    "# print(friend_counts)\n",
    "xs=range(101)\n",
    "ys = [friend_counts[i] for i in xs]\n",
    "plt.bar(xs, ys)\n",
    "plt.axis([0,101,0,25])\n",
    "plt.title (\"Histogram of Friend Conts\")\n",
    "plt.xlabel(\"# of friends\")\n",
    "plt.ylabel(\"# of people\")\n",
    "plt.show()\n"
   ]
  },
  {
   "cell_type": "code",
   "execution_count": 5,
   "id": "19ac50d2-bb0f-4763-8404-5a88b79bfbbd",
   "metadata": {},
   "outputs": [
    {
     "data": {
      "text/plain": [
       "165"
      ]
     },
     "execution_count": 5,
     "metadata": {},
     "output_type": "execute_result"
    }
   ],
   "source": [
    "new_point = len(num_friends)\n",
    "new_point"
   ]
  },
  {
   "cell_type": "code",
   "execution_count": 6,
   "id": "d69ade40-699b-48e5-b191-270889031f18",
   "metadata": {},
   "outputs": [
    {
     "data": {
      "text/plain": [
       "1"
      ]
     },
     "execution_count": 6,
     "metadata": {},
     "output_type": "execute_result"
    }
   ],
   "source": [
    "largest_value=max(num_friends)\n",
    "smallest_value = min(num_friends)\n",
    "largest_value\n",
    "smallest_value"
   ]
  },
  {
   "cell_type": "code",
   "execution_count": 7,
   "id": "fb29ea1e-587c-4ea7-a689-ff62e4b4c4eb",
   "metadata": {},
   "outputs": [
    {
     "name": "stdout",
     "output_type": "stream",
     "text": [
      "[1, 1, 1, 1, 1, 1, 1, 1, 2, 2, 2, 2, 2, 2, 2, 2, 3, 3, 3, 3, 3, 3, 3, 3, 4, 4, 4, 4, 4, 4, 4, 4, 5, 5, 5, 5, 5, 5, 5, 5, 6, 6, 6, 6, 6, 6, 6, 6, 7, 7, 7, 7, 7, 7, 7, 7, 8, 8, 8, 8, 8, 8, 8, 8, 9, 9, 9, 9, 9, 9, 9, 9, 10, 10, 10, 10, 10, 10, 10, 10, 11, 11, 11, 11, 11, 11, 11, 11, 12, 12, 12, 12, 12, 12, 12, 12, 13, 13, 13, 13, 13, 13, 13, 13, 14, 14, 14, 14, 14, 14, 14, 14, 15, 15, 15, 15, 15, 15, 15, 15, 16, 16, 16, 16, 16, 16, 16, 16, 17, 17, 17, 17, 17, 17, 17, 17, 18, 18, 18, 18, 18, 18, 18, 18, 19, 19, 19, 19, 19, 19, 19, 19, 20, 20, 20, 20, 20, 20, 20, 20, 25, 40, 41, 49, 100]\n"
     ]
    }
   ],
   "source": [
    "sort_val = sorted(num_friends)\n",
    "print(sort_val)"
   ]
  },
  {
   "cell_type": "code",
   "execution_count": 8,
   "id": "2379c7bb-ddbe-4754-aa0b-188b2021d6b8",
   "metadata": {},
   "outputs": [
    {
     "data": {
      "text/plain": [
       "1"
      ]
     },
     "execution_count": 8,
     "metadata": {},
     "output_type": "execute_result"
    }
   ],
   "source": [
    "sort_val[0]"
   ]
  },
  {
   "cell_type": "code",
   "execution_count": 9,
   "id": "194d655e-3c50-4a16-b940-55a8c080cf87",
   "metadata": {},
   "outputs": [
    {
     "data": {
      "text/plain": [
       "49"
      ]
     },
     "execution_count": 9,
     "metadata": {},
     "output_type": "execute_result"
    }
   ],
   "source": [
    "sort_val[-2]"
   ]
  },
  {
   "cell_type": "code",
   "execution_count": 10,
   "id": "9db712a6-3b71-4606-acb1-fb7f828d33db",
   "metadata": {},
   "outputs": [
    {
     "data": {
      "text/plain": [
       "11.727272727272727"
      ]
     },
     "execution_count": 10,
     "metadata": {},
     "output_type": "execute_result"
    }
   ],
   "source": [
    "def mean(x):\n",
    "    return sum(x)/len(x)\n",
    "mean(num_friends)"
   ]
  },
  {
   "cell_type": "code",
   "execution_count": 11,
   "id": "e11ca329-932d-4860-aad4-bed48869eea1",
   "metadata": {},
   "outputs": [
    {
     "data": {
      "text/plain": [
       "11"
      ]
     },
     "execution_count": 11,
     "metadata": {},
     "output_type": "execute_result"
    }
   ],
   "source": [
    "def median(x):\n",
    "    n = len(x)\n",
    "    s_v = sorted(x)\n",
    "    mid = n//2\n",
    "    if n%2==1:\n",
    "        return s_v[mid]\n",
    "    else :\n",
    "        lo = mid-1\n",
    "        hi = mid\n",
    "        return ( s_v[lo] + s_v[hi])/2\n",
    "median(num_friends)"
   ]
  },
  {
   "cell_type": "code",
   "execution_count": 12,
   "id": "35ab7996-3f34-41ed-a4ed-8e708b1dabd5",
   "metadata": {},
   "outputs": [],
   "source": [
    "def quantile(x,p):\n",
    "    p_index= int(p* len(x))\n",
    "    return sorted(x)[p_index]"
   ]
  },
  {
   "cell_type": "code",
   "execution_count": 13,
   "id": "431adaae-c7ab-43b1-b21e-ba6617e99f70",
   "metadata": {},
   "outputs": [
    {
     "data": {
      "text/plain": [
       "3"
      ]
     },
     "execution_count": 13,
     "metadata": {},
     "output_type": "execute_result"
    }
   ],
   "source": [
    "quantile(num_friends, 0.10)"
   ]
  },
  {
   "cell_type": "code",
   "execution_count": 14,
   "id": "68a0c06c-ccd3-4dd4-8bca-a82a3cbb9acd",
   "metadata": {},
   "outputs": [
    {
     "data": {
      "text/plain": [
       "6"
      ]
     },
     "execution_count": 14,
     "metadata": {},
     "output_type": "execute_result"
    }
   ],
   "source": [
    "quantile(num_friends, 0.25)"
   ]
  },
  {
   "cell_type": "code",
   "execution_count": 15,
   "id": "98a965db-19a2-43a9-9f67-9a68be3e0e32",
   "metadata": {},
   "outputs": [
    {
     "data": {
      "text/plain": [
       "16"
      ]
     },
     "execution_count": 15,
     "metadata": {},
     "output_type": "execute_result"
    }
   ],
   "source": [
    "quantile(num_friends, 0.75)"
   ]
  },
  {
   "cell_type": "code",
   "execution_count": 16,
   "id": "c0194d97-501d-44c8-8345-3c022d06c249",
   "metadata": {},
   "outputs": [
    {
     "data": {
      "text/plain": [
       "19"
      ]
     },
     "execution_count": 16,
     "metadata": {},
     "output_type": "execute_result"
    }
   ],
   "source": [
    "\n",
    "quantile(num_friends, 0.90)"
   ]
  },
  {
   "cell_type": "code",
   "execution_count": 21,
   "id": "1dce0fdd-7cd1-43da-a212-59febaf8d83a",
   "metadata": {},
   "outputs": [
    {
     "name": "stdout",
     "output_type": "stream",
     "text": [
      "[1, 2, 3, 4, 5, 6, 7, 8, 9, 10, 11, 12, 13, 14, 15, 16, 17, 18, 19, 20]\n"
     ]
    }
   ],
   "source": [
    "def mode(x):\n",
    "    counts  = Counter(x)\n",
    "    max_count = max(counts.values())\n",
    "    return [ i for i , count in counts.items() if count == max_count]\n",
    "\n",
    "print(mode(num_friends))"
   ]
  },
  {
   "cell_type": "code",
   "execution_count": 23,
   "id": "9d96b40c-c75d-4d66-8fd3-63b82338544a",
   "metadata": {},
   "outputs": [
    {
     "data": {
      "text/plain": [
       "99"
      ]
     },
     "execution_count": 23,
     "metadata": {},
     "output_type": "execute_result"
    }
   ],
   "source": [
    "def data_range(x):\n",
    "    return max(x) - min(x) \n",
    "\n",
    "data_range(num_friends)    "
   ]
  },
  {
   "cell_type": "code",
   "execution_count": 24,
   "id": "a5e08de6-9f97-40dc-9745-952de8e53fbd",
   "metadata": {},
   "outputs": [
    {
     "data": {
      "text/plain": [
       "[88.27272727272728,\n",
       " -10.727272727272727,\n",
       " -9.727272727272727,\n",
       " -8.727272727272727,\n",
       " -7.727272727272727,\n",
       " -6.727272727272727,\n",
       " -5.727272727272727,\n",
       " -4.727272727272727,\n",
       " -3.7272727272727266,\n",
       " -2.7272727272727266,\n",
       " -1.7272727272727266,\n",
       " -0.7272727272727266,\n",
       " 0.2727272727272734,\n",
       " 1.2727272727272734,\n",
       " 2.2727272727272734,\n",
       " 3.2727272727272734,\n",
       " 4.272727272727273,\n",
       " 5.272727272727273,\n",
       " 6.272727272727273,\n",
       " 7.272727272727273,\n",
       " 8.272727272727273,\n",
       " 37.27272727272727,\n",
       " 28.272727272727273,\n",
       " 29.272727272727273,\n",
       " 13.272727272727273,\n",
       " -10.727272727272727,\n",
       " -9.727272727272727,\n",
       " -8.727272727272727,\n",
       " -7.727272727272727,\n",
       " -6.727272727272727,\n",
       " -5.727272727272727,\n",
       " -4.727272727272727,\n",
       " -3.7272727272727266,\n",
       " -2.7272727272727266,\n",
       " -1.7272727272727266,\n",
       " -0.7272727272727266,\n",
       " 0.2727272727272734,\n",
       " 1.2727272727272734,\n",
       " 2.2727272727272734,\n",
       " 3.2727272727272734,\n",
       " 4.272727272727273,\n",
       " 5.272727272727273,\n",
       " 6.272727272727273,\n",
       " 7.272727272727273,\n",
       " 8.272727272727273,\n",
       " -10.727272727272727,\n",
       " -9.727272727272727,\n",
       " -8.727272727272727,\n",
       " -7.727272727272727,\n",
       " -6.727272727272727,\n",
       " -5.727272727272727,\n",
       " -4.727272727272727,\n",
       " -3.7272727272727266,\n",
       " -2.7272727272727266,\n",
       " -1.7272727272727266,\n",
       " -0.7272727272727266,\n",
       " 0.2727272727272734,\n",
       " 1.2727272727272734,\n",
       " 2.2727272727272734,\n",
       " 3.2727272727272734,\n",
       " 4.272727272727273,\n",
       " 5.272727272727273,\n",
       " 6.272727272727273,\n",
       " 7.272727272727273,\n",
       " 8.272727272727273,\n",
       " -10.727272727272727,\n",
       " -9.727272727272727,\n",
       " -8.727272727272727,\n",
       " -7.727272727272727,\n",
       " -6.727272727272727,\n",
       " -5.727272727272727,\n",
       " -4.727272727272727,\n",
       " -3.7272727272727266,\n",
       " -2.7272727272727266,\n",
       " -1.7272727272727266,\n",
       " -0.7272727272727266,\n",
       " 0.2727272727272734,\n",
       " 1.2727272727272734,\n",
       " 2.2727272727272734,\n",
       " 3.2727272727272734,\n",
       " 4.272727272727273,\n",
       " 5.272727272727273,\n",
       " 6.272727272727273,\n",
       " 7.272727272727273,\n",
       " 8.272727272727273,\n",
       " -10.727272727272727,\n",
       " -9.727272727272727,\n",
       " -8.727272727272727,\n",
       " -7.727272727272727,\n",
       " -6.727272727272727,\n",
       " -5.727272727272727,\n",
       " -4.727272727272727,\n",
       " -3.7272727272727266,\n",
       " -2.7272727272727266,\n",
       " -1.7272727272727266,\n",
       " -0.7272727272727266,\n",
       " 0.2727272727272734,\n",
       " 1.2727272727272734,\n",
       " 2.2727272727272734,\n",
       " 3.2727272727272734,\n",
       " 4.272727272727273,\n",
       " 5.272727272727273,\n",
       " 6.272727272727273,\n",
       " 7.272727272727273,\n",
       " 8.272727272727273,\n",
       " -10.727272727272727,\n",
       " -9.727272727272727,\n",
       " -8.727272727272727,\n",
       " -7.727272727272727,\n",
       " -6.727272727272727,\n",
       " -5.727272727272727,\n",
       " -4.727272727272727,\n",
       " -3.7272727272727266,\n",
       " -2.7272727272727266,\n",
       " -1.7272727272727266,\n",
       " -0.7272727272727266,\n",
       " 0.2727272727272734,\n",
       " 1.2727272727272734,\n",
       " 2.2727272727272734,\n",
       " 3.2727272727272734,\n",
       " 4.272727272727273,\n",
       " 5.272727272727273,\n",
       " 6.272727272727273,\n",
       " 7.272727272727273,\n",
       " 8.272727272727273,\n",
       " -10.727272727272727,\n",
       " -9.727272727272727,\n",
       " -8.727272727272727,\n",
       " -7.727272727272727,\n",
       " -6.727272727272727,\n",
       " -5.727272727272727,\n",
       " -4.727272727272727,\n",
       " -3.7272727272727266,\n",
       " -2.7272727272727266,\n",
       " -1.7272727272727266,\n",
       " -0.7272727272727266,\n",
       " 0.2727272727272734,\n",
       " 1.2727272727272734,\n",
       " 2.2727272727272734,\n",
       " 3.2727272727272734,\n",
       " 4.272727272727273,\n",
       " 5.272727272727273,\n",
       " 6.272727272727273,\n",
       " 7.272727272727273,\n",
       " 8.272727272727273,\n",
       " -10.727272727272727,\n",
       " -9.727272727272727,\n",
       " -8.727272727272727,\n",
       " -7.727272727272727,\n",
       " -6.727272727272727,\n",
       " -5.727272727272727,\n",
       " -4.727272727272727,\n",
       " -3.7272727272727266,\n",
       " -2.7272727272727266,\n",
       " -1.7272727272727266,\n",
       " -0.7272727272727266,\n",
       " 0.2727272727272734,\n",
       " 1.2727272727272734,\n",
       " 2.2727272727272734,\n",
       " 3.2727272727272734,\n",
       " 4.272727272727273,\n",
       " 5.272727272727273,\n",
       " 6.272727272727273,\n",
       " 7.272727272727273,\n",
       " 8.272727272727273]"
      ]
     },
     "execution_count": 24,
     "metadata": {},
     "output_type": "execute_result"
    }
   ],
   "source": [
    "def do_mean(x):\n",
    "    x_bar=  mean(x)\n",
    "    return [ i-x_bar  for  i in x]\n",
    "\n",
    "do_mean(num_friends)"
   ]
  },
  {
   "cell_type": "code",
   "execution_count": 30,
   "id": "de74eddd-d643-420e-a4fd-24095a777a8c",
   "metadata": {},
   "outputs": [
    {
     "data": {
      "text/plain": [
       "0.05044345898004435"
      ]
     },
     "execution_count": 30,
     "metadata": {},
     "output_type": "execute_result"
    }
   ],
   "source": [
    "def sum_of_squares(x):\n",
    "    for  i in x :\n",
    "        i**2\n",
    "    return  i\n",
    "\n",
    "\n",
    "def variance(x):\n",
    "    n = len (x)\n",
    "    deviations = do_mean(x)\n",
    "    return sum_of_squares(deviations) / (n -1 )\n",
    "\n",
    "variance(num_friends)"
   ]
  },
  {
   "cell_type": "code",
   "execution_count": null,
   "id": "456ee9c5-ca8f-4b96-b422-77958b90ee4a",
   "metadata": {},
   "outputs": [],
   "source": []
  }
 ],
 "metadata": {
  "kernelspec": {
   "display_name": "Python 3 (ipykernel)",
   "language": "python",
   "name": "python3"
  },
  "language_info": {
   "codemirror_mode": {
    "name": "ipython",
    "version": 3
   },
   "file_extension": ".py",
   "mimetype": "text/x-python",
   "name": "python",
   "nbconvert_exporter": "python",
   "pygments_lexer": "ipython3",
   "version": "3.11.9"
  },
  "widgets": {
   "application/vnd.jupyter.widget-state+json": {
    "state": {},
    "version_major": 2,
    "version_minor": 0
   }
  }
 },
 "nbformat": 4,
 "nbformat_minor": 5
}
